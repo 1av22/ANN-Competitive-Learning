{
 "cells": [
  {
   "cell_type": "markdown",
   "metadata": {},
   "source": [
    "# Implementing Competitive Learning from scratch using NumPy"
   ]
  },
  {
   "cell_type": "markdown",
   "metadata": {},
   "source": [
    "## Importing the libraries"
   ]
  },
  {
   "cell_type": "code",
   "execution_count": 115,
   "metadata": {},
   "outputs": [],
   "source": [
    "import numpy as np"
   ]
  },
  {
   "cell_type": "markdown",
   "metadata": {},
   "source": [
    "## Creating the class to represent the algorithm"
   ]
  },
  {
   "cell_type": "code",
   "execution_count": 116,
   "metadata": {},
   "outputs": [],
   "source": [
    "class CompetitiveLearningNN:\n",
    "    def __init__(self, input_size, num_neurons, learning_rate=0.1, epochs=100):\n",
    "        self.input_size = input_size\n",
    "        self.num_neurons = num_neurons\n",
    "        self.learning_rate = learning_rate\n",
    "        self.epochs = epochs\n",
    "        self.weights = np.random.rand(num_neurons, input_size)\n",
    "\n",
    "    def normalize(self, data):\n",
    "        return data / np.linalg.norm(data)\n",
    "\n",
    "    def find_winner(self, data):\n",
    "        normalized_data = self.normalize(data)\n",
    "        activations = np.dot(self.weights, normalized_data)\n",
    "        return np.argmax(activations)\n",
    "\n",
    "    def update_weights(self, data, winner):\n",
    "        normalized_data = self.normalize(data)\n",
    "        self.weights[winner] += self.learning_rate * (normalized_data - self.weights[winner])\n",
    "\n",
    "    def train(self, data):\n",
    "        for epoch in range(self.epochs):\n",
    "            for sample in data:\n",
    "                winner = self.find_winner(sample)\n",
    "                self.update_weights(sample, winner)\n",
    "\n",
    "    def predict(self, data):\n",
    "        predictions = []\n",
    "        for sample in data:\n",
    "            winner = self.find_winner(sample)\n",
    "            predictions.append(winner)\n",
    "        return predictions\n"
   ]
  },
  {
   "cell_type": "markdown",
   "metadata": {},
   "source": [
    "## Running the algorithm and finding result for new random data"
   ]
  },
  {
   "cell_type": "code",
   "execution_count": 117,
   "metadata": {},
   "outputs": [
    {
     "name": "stdout",
     "output_type": "stream",
     "text": [
      "The input is : \n",
      "[[0.52518038 0.72643172 0.11870296 0.90016439 0.31805929]\n",
      " [0.88182966 0.53775459 0.5050117  0.62388265 0.08284808]\n",
      " [0.97008183 0.74539565 0.68555982 0.21509314 0.11414272]\n",
      " [0.73079702 0.34806613 0.03486148 0.51594802 0.18520623]\n",
      " [0.28528878 0.47831863 0.44180656 0.67924739 0.25577251]\n",
      " [0.02353798 0.85243647 0.87223069 0.84395261 0.08860424]\n",
      " [0.1297141  0.03378246 0.18805933 0.16867358 0.8309574 ]\n",
      " [0.86081531 0.27486194 0.37546666 0.12529864 0.7805619 ]\n",
      " [0.09448605 0.85247656 0.27509373 0.53246201 0.43622349]\n",
      " [0.56151355 0.03261729 0.07689887 0.22204031 0.74462664]]\n",
      "\n",
      "\n",
      "The final weights after 100 epochs :\n",
      "[[0.70310387 0.42784409 0.28827055 0.38708064 0.11538759]\n",
      " [0.63124296 0.12133711 0.18343812 0.16862062 0.70117365]\n",
      " [0.17918511 0.59679065 0.34573936 0.58780083 0.23806884]\n",
      " [0.14760391 0.03845378 0.21399819 0.19194575 0.94555292]]\n",
      "\n",
      "\n",
      "Final predictions :  [0, 2, 2, 1, 1, 2, 2, 0, 0, 2]\n"
     ]
    }
   ],
   "source": [
    "# Generate some random data\n",
    "input_size = 5\n",
    "num_neurons = 4\n",
    "data = np.random.rand(10, input_size)\n",
    "print(\"The input is : \")\n",
    "print(data)\n",
    "\n",
    "# Creating and training the competitive learning neural network\n",
    "clf = CompetitiveLearningNN(input_size, num_neurons)\n",
    "clf.train(data)\n",
    "\n",
    "# Testing the predictions\n",
    "test_data = np.random.rand(10, input_size)\n",
    "predictions = clf.predict(test_data)\n",
    "\n",
    "print(\"\\n\\nThe final weights after 100 epochs :\")\n",
    "print(clf.weights)\n",
    "\n",
    "print(\"\\n\\nFinal predictions : \", predictions)"
   ]
  },
  {
   "cell_type": "code",
   "execution_count": null,
   "metadata": {},
   "outputs": [],
   "source": []
  }
 ],
 "metadata": {
  "kernelspec": {
   "display_name": "Python 3",
   "language": "python",
   "name": "python3"
  },
  "language_info": {
   "codemirror_mode": {
    "name": "ipython",
    "version": 3
   },
   "file_extension": ".py",
   "mimetype": "text/x-python",
   "name": "python",
   "nbconvert_exporter": "python",
   "pygments_lexer": "ipython3",
   "version": "3.11.2"
  },
  "orig_nbformat": 4
 },
 "nbformat": 4,
 "nbformat_minor": 2
}
